{
  "nbformat": 4,
  "nbformat_minor": 0,
  "metadata": {
    "colab": {
      "name": "Preliminary_label_generation.ipynb",
      "provenance": [],
      "authorship_tag": "ABX9TyNF0qPr4K3a28Acl6sVrAtY",
      "include_colab_link": true
    },
    "kernelspec": {
      "name": "python3",
      "display_name": "Python 3"
    },
    "language_info": {
      "name": "python"
    }
  },
  "cells": [
    {
      "cell_type": "markdown",
      "metadata": {
        "id": "view-in-github",
        "colab_type": "text"
      },
      "source": [
        "<a href=\"https://colab.research.google.com/github/daniel-levitan/HousingPrices/blob/master/Preliminary_label_generation.ipynb\" target=\"_parent\"><img src=\"https://colab.research.google.com/assets/colab-badge.svg\" alt=\"Open In Colab\"/></a>"
      ]
    },
    {
      "cell_type": "markdown",
      "metadata": {
        "id": "nz4zJd6rI9qt"
      },
      "source": [
        "# Opening the file with all our data"
      ]
    },
    {
      "cell_type": "code",
      "metadata": {
        "id": "yr8plNE1HDEZ"
      },
      "source": [
        "import json"
      ],
      "execution_count": null,
      "outputs": []
    },
    {
      "cell_type": "code",
      "metadata": {
        "colab": {
          "base_uri": "https://localhost:8080/"
        },
        "id": "dbU6mdnEHH94",
        "outputId": "da98556c-8e07-4113-e0ad-0dd0c01a1c47"
      },
      "source": [
        "# Importing content from Google Drive\n",
        "from google.colab import drive\n",
        "drive.mount('/content/drive/')"
      ],
      "execution_count": null,
      "outputs": [
        {
          "output_type": "stream",
          "text": [
            "Mounted at /content/drive/\n"
          ],
          "name": "stdout"
        }
      ]
    },
    {
      "cell_type": "code",
      "metadata": {
        "id": "SFo7-OxAHLEC"
      },
      "source": [
        "# Creating a folder for the data\n",
        "!mkdir data"
      ],
      "execution_count": null,
      "outputs": []
    },
    {
      "cell_type": "code",
      "metadata": {
        "colab": {
          "base_uri": "https://localhost:8080/"
        },
        "id": "abyTCeStU99I",
        "outputId": "a556ed6f-0de9-41d0-b07c-8f7270b50ed2"
      },
      "source": [
        "ls"
      ],
      "execution_count": null,
      "outputs": [
        {
          "output_type": "stream",
          "text": [
            "\u001b[0m\u001b[01;34mdata\u001b[0m/  \u001b[01;34mdrive\u001b[0m/  \u001b[01;34msample_data\u001b[0m/\n"
          ],
          "name": "stdout"
        }
      ]
    },
    {
      "cell_type": "code",
      "metadata": {
        "colab": {
          "base_uri": "https://localhost:8080/"
        },
        "id": "vIi-7fCzR37b",
        "outputId": "f695fc54-22ef-4e65-cd6c-b8c8b085f69a"
      },
      "source": [
        "ls \"./drive/My Drive/Yandex/Project/data/post_per_user.json\""
      ],
      "execution_count": null,
      "outputs": [
        {
          "output_type": "stream",
          "text": [
            "'./drive/My Drive/Yandex/Project/data/post_per_user.json'\n"
          ],
          "name": "stdout"
        }
      ]
    },
    {
      "cell_type": "code",
      "metadata": {
        "id": "dXC9HSHpHLeZ"
      },
      "source": [
        "# Copying the file from\n",
        "!cp \"./drive/My Drive/Yandex/Project/data/post_per_user.json\" \"./data\""
      ],
      "execution_count": null,
      "outputs": []
    },
    {
      "cell_type": "code",
      "metadata": {
        "id": "WGoGqi2HHT3m"
      },
      "source": [
        "dir_path = \"./data/\"\n",
        "file_path = dir_path + \"post_per_user.json\""
      ],
      "execution_count": null,
      "outputs": []
    },
    {
      "cell_type": "code",
      "metadata": {
        "id": "qmvuWhWsHUXP"
      },
      "source": [
        "# Opening the Json file\n",
        "with open(file_path) as json_file:\n",
        "    data = json.load(json_file)"
      ],
      "execution_count": null,
      "outputs": []
    },
    {
      "cell_type": "code",
      "metadata": {
        "colab": {
          "base_uri": "https://localhost:8080/"
        },
        "id": "0ULaKWU_HWND",
        "outputId": "aabc59fb-f5a4-4446-b430-54db3cd44791"
      },
      "source": [
        "# Checking the first 3 post for the first 2 users\n",
        "# id, bodies, titles\n",
        "for i in range(2): # loop over users\n",
        "  id = data[i]['id']\n",
        "  bodies = data[i]['bodies']\n",
        "  titles = data[i]['titles']\n",
        "  print(\"\\n===\", id, len(bodies), len(titles))\n",
        "\n",
        "  # for j in range(len(bodies)):\n",
        "  for j in range(3): # loop over messages \n",
        "    print(data[i]['bodies'][j])\n",
        "    # print(len(data[i]['bodies']))"
      ],
      "execution_count": null,
      "outputs": [
        {
          "output_type": "stream",
          "text": [
            "\n",
            "=== _f.u.n.n.y.m.e.m.e.s_ 91 91\n",
            "None\n",
            "ITT WOODENT KIL SPODER CUZ I SHOOT WEBB AT HIM YLELELELELELEL\n",
            "liek if yu cri evrytiem :( phuck dolan\n",
            "\n",
            "=== 0beythelau 469 469\n",
            "Shmood #InMyEmotionsLately #WhoAmI #thoughtiwasaSavage 🙍🏻\n",
            "Shoutout to the bestest friend of mine that has been with me throughout the most awkwardest stages of my life #Chi @nic0llettesarlo\n",
            "😌👌🏼\n"
          ],
          "name": "stdout"
        }
      ]
    },
    {
      "cell_type": "markdown",
      "metadata": {
        "id": "tkVYgxPVLE-l"
      },
      "source": [
        "# First Attempt: Just using spacy with no cleaning"
      ]
    },
    {
      "cell_type": "code",
      "metadata": {
        "id": "iN8oYop8HX82"
      },
      "source": [
        "import spacy\n",
        "import en_core_web_sm"
      ],
      "execution_count": null,
      "outputs": []
    },
    {
      "cell_type": "code",
      "metadata": {
        "id": "rFMuTiuHM8FM"
      },
      "source": [
        "import time"
      ],
      "execution_count": null,
      "outputs": []
    },
    {
      "cell_type": "code",
      "metadata": {
        "id": "ZA4pjEyhLBU0"
      },
      "source": [
        "nlp = spacy.load(\"en_core_web_sm\")\n",
        "since = time.time()\n",
        "\n",
        "list_of_tuples = []\n",
        "for i in range(len(data)): # loop over users\n",
        "  id = data[i]['id']\n",
        "  bodies = data[i]['bodies']\n",
        "  titles = data[i]['titles']\n",
        "  # print(\"\\n===\", id, len(bodies), len(titles))\n",
        "\n",
        "  # for j in range(len(bodies)):\n",
        "  for j in range(len(bodies)): # loop over messages \n",
        "    text = data[i]['bodies'][j]\n",
        "    if text != None:\n",
        "      doc = nlp(text)\n",
        "      for entity in doc.ents:\n",
        "        # print(entity.text, entity.label_)\n",
        "        list_of_tuples.append((entity.text, entity.label_))\n",
        "time_elapsed = time.time() - since"
      ],
      "execution_count": null,
      "outputs": []
    },
    {
      "cell_type": "code",
      "metadata": {
        "colab": {
          "base_uri": "https://localhost:8080/"
        },
        "id": "TE2krW5ELxBk",
        "outputId": "1117d966-8d72-4ce4-9fc5-449c0fce5f5d"
      },
      "source": [
        "print(round(time_elapsed / 60, 2))\n",
        "print(len(list_of_tuples))"
      ],
      "execution_count": null,
      "outputs": [
        {
          "output_type": "stream",
          "text": [
            "23.37\n",
            "279941\n"
          ],
          "name": "stdout"
        }
      ]
    },
    {
      "cell_type": "code",
      "metadata": {
        "id": "ZyUVtT62LzHO"
      },
      "source": [
        ""
      ],
      "execution_count": null,
      "outputs": []
    }
  ]
}